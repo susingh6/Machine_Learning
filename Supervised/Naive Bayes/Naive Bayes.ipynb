{
 "cells": [
  {
   "cell_type": "code",
   "execution_count": 16,
   "metadata": {
    "collapsed": false
   },
   "outputs": [],
   "source": [
    "# import the libraries\n",
    "import numpy as np\n",
    "import pandas as pd\n",
    "from scipy.stats import norm\n",
    "from scipy.stats import multivariate_normal as mvn\n",
    "from datetime import datetime"
   ]
  },
  {
   "cell_type": "code",
   "execution_count": 31,
   "metadata": {
    "collapsed": true
   },
   "outputs": [],
   "source": [
    "# get data\n",
    "def get_data(size=None):\n",
    "    df=pd.read_csv('/Users/sunpreet/Downloads/train.csv',nrows=size)\n",
    "    data= df.as_matrix()\n",
    "    np.random.shuffle(data)\n",
    "    X=data[:,1:]/255\n",
    "    Y=data[:,0]\n",
    "    return X,Y\n",
    "    "
   ]
  },
  {
   "cell_type": "code",
   "execution_count": 37,
   "metadata": {
    "collapsed": false
   },
   "outputs": [],
   "source": [
    "# define the naive bayes class\n",
    "\n",
    "class NaiveBayes(object):\n",
    "    def __init__(self):\n",
    "        pass\n",
    "    def fit(self,X,Y,smoothing=10e-3):\n",
    "        self.gaussian={}\n",
    "        self.prior={}\n",
    "        z = set(Y)\n",
    "        for i in z:\n",
    "            current_x = X[Y==i]\n",
    "            self.gaussian[i]= {\n",
    "                'mean':X[Y==i].mean(axis=0),\n",
    "                'var':X[Y==i].var(axis=0) + smoothing,\n",
    "            }\n",
    "            self.prior[i]= len(Y[(Y==i)])/len(Y)\n",
    "        \n",
    "    def score(self,X,Y):\n",
    "        Prediction = self.predict(X)\n",
    "        return(np.mean(Y==Prediction))\n",
    "    \n",
    "    def predict(self,X):\n",
    "        N,D=X.shape\n",
    "        k= len(self.gaussian)\n",
    "        P = np.zeros((N,k))\n",
    "        for i,j in self.gaussian.items():\n",
    "            mean=j['mean']\n",
    "            var=j['var']\n",
    "            P[:,i]= mvn.logpdf(X,mean=mean,cov=var) + np.log(self.prior[i])     \n",
    "        \n",
    "        U = np.argmax(P,axis=1)\n",
    "        \n",
    "        return U\n",
    "        \n",
    "            "
   ]
  },
  {
   "cell_type": "code",
   "execution_count": 42,
   "metadata": {
    "collapsed": false
   },
   "outputs": [
    {
     "name": "stdout",
     "output_type": "stream",
     "text": [
      "Training time: 0:00:00.166615\n",
      "Train accuracy: 0.812\n",
      "Time to compute train accuracy: 0:00:01.853663\n",
      "Test accuracy: 0.803\n",
      "Time to compute test accuracy: 0:00:01.835861\n"
     ]
    }
   ],
   "source": [
    "if __name__== '__main__':\n",
    "    X,Y=get_data(10000)\n",
    "    Ntrain = int(len(Y)/2)\n",
    "    Xtrain,Ytrain = X[:Ntrain],Y[:Ntrain]\n",
    "    Xtest,Ytest = X[Ntrain:],Y[Ntrain:]\n",
    "    model=NaiveBayes()\n",
    "    \n",
    "    t0 = datetime.now()\n",
    "    model.fit(Xtrain, Ytrain)\n",
    "    print (\"Training time:\", (datetime.now() - t0))\n",
    "\n",
    "    t0 = datetime.now()\n",
    "    print (\"Train accuracy:\", model.score(Xtrain, Ytrain))\n",
    "    print (\"Time to compute train accuracy:\", (datetime.now() - t0))\n",
    "\n",
    "    t0 = datetime.now()\n",
    "    print (\"Test accuracy:\", model.score(Xtest, Ytest))\n",
    "    print (\"Time to compute test accuracy:\", (datetime.now() - t0))\n",
    "    "
   ]
  },
  {
   "cell_type": "code",
   "execution_count": 39,
   "metadata": {
    "collapsed": true
   },
   "outputs": [],
   "source": [
    "# import Naive Bayes from SKlearn\n",
    "from sklearn.naive_bayes import GaussianNB"
   ]
  },
  {
   "cell_type": "code",
   "execution_count": 41,
   "metadata": {
    "collapsed": false
   },
   "outputs": [
    {
     "name": "stderr",
     "output_type": "stream",
     "text": [
      "/Users/sunpreet/anaconda/lib/python3.6/site-packages/ipykernel/__main__.py:3: VisibleDeprecationWarning: using a non-integer number instead of an integer will result in an error in the future\n",
      "  app.launch_new_instance()\n",
      "/Users/sunpreet/anaconda/lib/python3.6/site-packages/ipykernel/__main__.py:4: VisibleDeprecationWarning: using a non-integer number instead of an integer will result in an error in the future\n"
     ]
    },
    {
     "name": "stdout",
     "output_type": "stream",
     "text": [
      "Training time: 0:00:00.109602\n",
      "Train accuracy: 0.5842\n",
      "Time to compute train accuracy: 0:00:00.526996\n",
      "Test accuracy: 0.5584\n",
      "Time to compute test accuracy: 0:00:00.575445\n"
     ]
    }
   ],
   "source": [
    "# Repeat the same thing from SKlearn\n",
    "X,Y=get_data(10000)\n",
    "Ntrain = len(Y)/2\n",
    "Xtrain,Ytrain = X[:Ntrain],Y[:Ntrain]\n",
    "Xtest,Ytest = X[Ntrain:],Y[Ntrain:]\n",
    "model1=GaussianNB()\n",
    "    \n",
    "t0 = datetime.now()\n",
    "model1.fit(Xtrain, Ytrain)\n",
    "print (\"Training time:\", (datetime.now() - t0))\n",
    "\n",
    "t0 = datetime.now()\n",
    "print (\"Train accuracy:\", model1.score(Xtrain, Ytrain))\n",
    "print (\"Time to compute train accuracy:\", (datetime.now() - t0))\n",
    "\n",
    "t0 = datetime.now()\n",
    "print (\"Test accuracy:\", model1.score(Xtest, Ytest))\n",
    "print (\"Time to compute test accuracy:\", (datetime.now() - t0))\n",
    "\n"
   ]
  },
  {
   "cell_type": "code",
   "execution_count": null,
   "metadata": {
    "collapsed": true
   },
   "outputs": [],
   "source": []
  }
 ],
 "metadata": {
  "kernelspec": {
   "display_name": "Python 3",
   "language": "python",
   "name": "python3"
  },
  "language_info": {
   "codemirror_mode": {
    "name": "ipython",
    "version": 3
   },
   "file_extension": ".py",
   "mimetype": "text/x-python",
   "name": "python",
   "nbconvert_exporter": "python",
   "pygments_lexer": "ipython3",
   "version": "3.6.0"
  }
 },
 "nbformat": 4,
 "nbformat_minor": 2
}
