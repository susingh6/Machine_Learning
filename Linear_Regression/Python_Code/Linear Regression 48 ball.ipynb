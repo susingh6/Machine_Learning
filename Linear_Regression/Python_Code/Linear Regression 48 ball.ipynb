{
 "cells": [
  {
   "cell_type": "code",
   "execution_count": 1,
   "metadata": {
    "collapsed": true
   },
   "outputs": [],
   "source": [
    "# Import the libraries\n",
    "import numpy as np\n",
    "import pandas as pd\n",
    "import matplotlib.pyplot as plt\n",
    "%matplotlib inline"
   ]
  },
  {
   "cell_type": "code",
   "execution_count": 5,
   "metadata": {
    "collapsed": false
   },
   "outputs": [
    {
     "data": {
      "text/html": [
       "<div>\n",
       "<table border=\"1\" class=\"dataframe\">\n",
       "  <thead>\n",
       "    <tr style=\"text-align: right;\">\n",
       "      <th></th>\n",
       "      <th>Site</th>\n",
       "      <th>Unnamed: 1</th>\n",
       "      <th>Home</th>\n",
       "      <th>Away</th>\n",
       "      <th>Unnamed: 4</th>\n",
       "      <th>Turnovers</th>\n",
       "      <th>Shooting %</th>\n",
       "      <th>Points Scored</th>\n",
       "    </tr>\n",
       "  </thead>\n",
       "  <tbody>\n",
       "    <tr>\n",
       "      <th>NaN</th>\n",
       "      <td>Neutral</td>\n",
       "      <td>NaN</td>\n",
       "      <td>0</td>\n",
       "      <td>0</td>\n",
       "      <td>NaN</td>\n",
       "      <td>16</td>\n",
       "      <td>45</td>\n",
       "      <td>98</td>\n",
       "    </tr>\n",
       "    <tr>\n",
       "      <th>NaN</th>\n",
       "      <td>Neutral</td>\n",
       "      <td>NaN</td>\n",
       "      <td>0</td>\n",
       "      <td>0</td>\n",
       "      <td>NaN</td>\n",
       "      <td>12</td>\n",
       "      <td>43</td>\n",
       "      <td>92</td>\n",
       "    </tr>\n",
       "    <tr>\n",
       "      <th>NaN</th>\n",
       "      <td>Neutral</td>\n",
       "      <td>NaN</td>\n",
       "      <td>0</td>\n",
       "      <td>0</td>\n",
       "      <td>NaN</td>\n",
       "      <td>18</td>\n",
       "      <td>50</td>\n",
       "      <td>106</td>\n",
       "    </tr>\n",
       "    <tr>\n",
       "      <th>NaN</th>\n",
       "      <td>Neutral</td>\n",
       "      <td>NaN</td>\n",
       "      <td>0</td>\n",
       "      <td>0</td>\n",
       "      <td>NaN</td>\n",
       "      <td>15</td>\n",
       "      <td>42</td>\n",
       "      <td>88</td>\n",
       "    </tr>\n",
       "    <tr>\n",
       "      <th>NaN</th>\n",
       "      <td>Home</td>\n",
       "      <td>NaN</td>\n",
       "      <td>1</td>\n",
       "      <td>0</td>\n",
       "      <td>NaN</td>\n",
       "      <td>13</td>\n",
       "      <td>51</td>\n",
       "      <td>112</td>\n",
       "    </tr>\n",
       "  </tbody>\n",
       "</table>\n",
       "</div>"
      ],
      "text/plain": [
       "        Site  Unnamed: 1  Home  Away  Unnamed: 4  Turnovers  Shooting %  \\\n",
       "NaN  Neutral         NaN     0     0         NaN         16          45   \n",
       "NaN  Neutral         NaN     0     0         NaN         12          43   \n",
       "NaN  Neutral         NaN     0     0         NaN         18          50   \n",
       "NaN  Neutral         NaN     0     0         NaN         15          42   \n",
       "NaN     Home         NaN     1     0         NaN         13          51   \n",
       "\n",
       "     Points Scored  \n",
       "NaN             98  \n",
       "NaN             92  \n",
       "NaN            106  \n",
       "NaN             88  \n",
       "NaN            112  "
      ]
     },
     "execution_count": 5,
     "metadata": {},
     "output_type": "execute_result"
    }
   ],
   "source": [
    "# Get data from the file\n",
    "\n",
    "# Provide the file name in the working directory or the path containing it\n",
    "df=pd.read_excel('/Users/sunpreet/Machine-Learning/Linear Regression/Python code/data/48-B-Ball-Example.xls',sheetname='Sheet1')\n",
    "df.head()"
   ]
  },
  {
   "cell_type": "code",
   "execution_count": 6,
   "metadata": {
    "collapsed": false
   },
   "outputs": [],
   "source": [
    "# Need to get the relevant data in X(predictor variables) and Y(dependent variable)\n",
    "\n",
    "df.clean = df[['Shooting %', 'Points Scored']]\n",
    "data=df.clean.as_matrix()\n",
    "X=np.array(data[:,0])\n",
    "Y=np.array(data[:,1])\n"
   ]
  },
  {
   "cell_type": "code",
   "execution_count": 7,
   "metadata": {
    "collapsed": false
   },
   "outputs": [
    {
     "name": "stdout",
     "output_type": "stream",
     "text": [
      "Intercept= -19.5721393035 Slope= 2.6144278607\n"
     ]
    }
   ],
   "source": [
    "# Build a model for linear Regression\n",
    "\n",
    "denom = X.dot(X) -X.mean()*X.sum()\n",
    "\n",
    "slope = (X.dot(Y)- X.sum()*Y.mean()) / denom\n",
    "intercept = (Y.mean()*X.dot(X)-X.mean()*Y.dot(X))/denom\n",
    "\n",
    "print(\"Intercept=\",intercept,\"Slope=\",slope)"
   ]
  },
  {
   "cell_type": "code",
   "execution_count": 8,
   "metadata": {
    "collapsed": false
   },
   "outputs": [
    {
     "name": "stdout",
     "output_type": "stream",
     "text": [
      "[  98.07711443   92.84825871  111.14925373   90.23383085  113.76368159\n",
      "  100.69154229   95.46268657   85.00497512  100.69154229  116.37810945\n",
      "  100.69154229  108.53482587   95.46268657   82.39054726   87.61940299\n",
      "  105.92039801  100.69154229   95.46268657  100.69154229   90.23383085]\n"
     ]
    }
   ],
   "source": [
    "#Get the Prediction\n",
    "Yhat = (slope*X) + intercept\n",
    "\n",
    "print(Yhat)"
   ]
  },
  {
   "cell_type": "code",
   "execution_count": 9,
   "metadata": {
    "collapsed": false
   },
   "outputs": [
    {
     "data": {
      "text/plain": [
       "<matplotlib.legend.Legend at 0x11ca50be0>"
      ]
     },
     "execution_count": 9,
     "metadata": {},
     "output_type": "execute_result"
    },
    {
     "data": {
      "image/png": "[encoded data removed]",
      "text/plain": [
       "<matplotlib.figure.Figure at 0x1196e0e10>"
      ]
     },
     "metadata": {},
     "output_type": "display_data"
    }
   ],
   "source": [
    "# Plot the best line of fit\n",
    "plt.scatter(X,Y)\n",
    "plt.plot(X,Yhat,c='Green',label ='Best Fit')\n",
    "plt.legend()\n"
   ]
  },
  {
   "cell_type": "code",
   "execution_count": 10,
   "metadata": {
    "collapsed": false
   },
   "outputs": [
    {
     "name": "stdout",
     "output_type": "stream",
     "text": [
      "0.775912184184\n"
     ]
    }
   ],
   "source": [
    "# Calculate the Rsquare\n",
    "\n",
    "Error = Y-Yhat\n",
    "Total = Y-Y.mean()\n",
    "\n",
    "r2 = 1 - (Error.dot(Error)/Total.dot(Total))\n",
    "print(r2)"
   ]
  },
  {
   "cell_type": "code",
   "execution_count": null,
   "metadata": {
    "collapsed": true
   },
   "outputs": [],
   "source": []
  }
 ],
 "metadata": {
  "kernelspec": {
   "display_name": "Python 3",
   "language": "python",
   "name": "python3"
  },
  "language_info": {
   "codemirror_mode": {
    "name": "ipython",
    "version": 3
   },
   "file_extension": ".py",
   "mimetype": "text/x-python",
   "name": "python",
   "nbconvert_exporter": "python",
   "pygments_lexer": "ipython3",
   "version": "3.6.0"
  }
 },
 "nbformat": 4,
 "nbformat_minor": 2
}
