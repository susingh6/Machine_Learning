{
 "cells": [
  {
   "cell_type": "code",
   "execution_count": 1,
   "metadata": {
    "collapsed": true
   },
   "outputs": [],
   "source": [
    "# import the libraries \n",
    "import numpy as np\n",
    "import matplotlib.pyplot as plt"
   ]
  },
  {
   "cell_type": "code",
   "execution_count": 9,
   "metadata": {
    "collapsed": false
   },
   "outputs": [
    {
     "data": {
      "image/png": "[encoded data removed]",
      "text/plain": [
       "<matplotlib.figure.Figure at 0x1157f6ba8>"
      ]
     },
     "metadata": {},
     "output_type": "display_data"
    }
   ],
   "source": [
    "# Create the data\n",
    "N = 4\n",
    "D = 2\n",
    "\n",
    "# XOR\n",
    "X = np.array([\n",
    "    [0, 0],\n",
    "    [0, 1],\n",
    "    [1, 0],\n",
    "    [1, 1],\n",
    "])\n",
    "T = np.array([0, 1, 1, 0])\n",
    "plt.scatter(X[:,0],X[:,1],c=T)\n",
    "plt.show()"
   ]
  },
  {
   "cell_type": "code",
   "execution_count": 10,
   "metadata": {
    "collapsed": false
   },
   "outputs": [
    {
     "data": {
      "text/plain": [
       "array([[ 1.,  0.,  0.,  0.],\n",
       "       [ 1.,  0.,  0.,  1.],\n",
       "       [ 1.,  0.,  1.,  0.],\n",
       "       [ 1.,  1.,  1.,  1.]])"
      ]
     },
     "execution_count": 10,
     "metadata": {},
     "output_type": "execute_result"
    }
   ],
   "source": [
    "# add a column of ones\n",
    "# ones = np.array([[1]*N]).T\n",
    "ones = np.ones((N, 1))\n",
    "\n",
    "# add a column of xy = x*y\n",
    "xy = (X[:,0] * X[:,1]).reshape(N, 1)\n",
    "Xb = np.concatenate((ones, xy, X), axis=1)\n",
    "Xb"
   ]
  },
  {
   "cell_type": "code",
   "execution_count": 8,
   "metadata": {
    "collapsed": false
   },
   "outputs": [
    {
     "name": "stdout",
     "output_type": "stream",
     "text": [
      "2.97339775195\n",
      "2.94334623198\n",
      "2.91426751279\n",
      "2.88610107425\n",
      "2.85879448974\n",
      "2.83230153516\n",
      "2.80658080105\n",
      "2.78159467592\n",
      "2.75730860203\n",
      "2.73369052964\n",
      "2.71071051552\n",
      "2.6883404254\n",
      "2.66655371154\n",
      "2.64532524393\n",
      "2.62463118011\n",
      "2.60444886252\n",
      "2.58475673545\n",
      "2.56553427619\n",
      "2.54676193627\n",
      "2.52842109001\n",
      "2.51049398854\n",
      "2.49296371776\n",
      "2.47581415936\n",
      "2.45902995431\n",
      "2.44259646825\n",
      "2.42649975855\n",
      "2.41072654283\n",
      "2.39526416876\n",
      "2.38010058506\n",
      "2.36522431365\n",
      "2.35062442292\n",
      "2.33629050197\n",
      "2.32221263597\n",
      "2.30838138245\n",
      "2.29478774858\n",
      "2.28142316944\n",
      "2.26827948718\n",
      "2.2553489311\n",
      "2.24262409857\n",
      "2.23009793691\n",
      "2.21776372595\n",
      "2.20561506154\n",
      "2.19364583973\n",
      "2.18185024171\n",
      "2.17022271955\n",
      "2.1587579825\n",
      "2.14745098408\n",
      "2.1362969097\n",
      "2.12529116499\n",
      "2.11442936461\n",
      "2.10370732171\n",
      "2.09312103783\n",
      "2.08266669344\n",
      "2.07234063878\n",
      "2.06213938535\n",
      "2.05205959772\n",
      "2.04209808577\n",
      "2.0322517974\n",
      "2.02251781153\n",
      "2.01289333154\n",
      "2.00337567894\n",
      "1.99396228753\n",
      "1.98465069769\n",
      "1.97543855111\n",
      "1.9663235857\n",
      "1.95730363079\n",
      "1.94837660264\n",
      "1.93954050007\n",
      "1.93079340044\n",
      "1.92213345571\n",
      "1.91355888887\n",
      "1.90506799039\n",
      "1.89665911493\n",
      "1.88833067829\n",
      "1.88008115434\n",
      "1.87190907234\n",
      "1.86381301417\n",
      "1.85579161187\n",
      "1.84784354526\n",
      "1.83996753962\n",
      "1.8321623636\n",
      "1.82442682713\n",
      "1.81675977954\n",
      "1.8091601077\n",
      "1.80162673427\n",
      "1.79415861607\n",
      "1.78675474253\n",
      "1.77941413417\n",
      "1.77213584124\n",
      "1.76491894231\n",
      "1.7577625431\n",
      "1.7506657752\n",
      "1.74362779496\n",
      "1.73664778239\n",
      "1.72972494016\n",
      "1.7228584926\n",
      "1.71604768475\n",
      "1.70929178155\n",
      "1.70259006692\n",
      "1.69594184302\n"
     ]
    },
    {
     "data": {
      "image/png": "[encoded data removed]",
      "text/plain": [
       "<matplotlib.figure.Figure at 0x1157f6a58>"
      ]
     },
     "metadata": {},
     "output_type": "display_data"
    },
    {
     "name": "stdout",
     "output_type": "stream",
     "text": [
      "Final w: [-0.11166157 -2.77914798  0.86353569  0.7991059 ]\n",
      "Final classification rate: 1.0\n"
     ]
    }
   ],
   "source": [
    "# randomly initialize the weights\n",
    "w = np.random.randn(D + 2)\n",
    "\n",
    "# calculate the model output\n",
    "z = Xb.dot(w)\n",
    "\n",
    "def sigmoid(z):\n",
    "    return 1/(1 + np.exp(-z))\n",
    "\n",
    "\n",
    "Y = sigmoid(z)\n",
    "\n",
    "# calculate the cross-entropy error\n",
    "def cross_entropy(T, Y):\n",
    "    E = 0\n",
    "    for i in range(N):\n",
    "        if T[i] == 1:\n",
    "            E -= np.log(Y[i])\n",
    "        else:\n",
    "            E -= np.log(1 - Y[i])\n",
    "    return E\n",
    "\n",
    "\n",
    "# let's do gradient descent 100 times\n",
    "learning_rate = 0.001\n",
    "error = []\n",
    "for i in range(10000):\n",
    "    e = cross_entropy(T, Y)\n",
    "    error.append(e)\n",
    "    if i % 100 == 0:\n",
    "        print (e)\n",
    "\n",
    "    # gradient descent weight udpate with regularization\n",
    "    w += learning_rate * ( Xb.T.dot(T - Y) - 0.01*w )\n",
    "\n",
    "    # recalculate Y\n",
    "    Y = sigmoid(Xb.dot(w))\n",
    "\n",
    "plt.plot(error)\n",
    "plt.title(\"Cross-entropy\")\n",
    "plt.show()\n",
    "\n",
    "print (\"Final w:\", w)\n",
    "print (\"Final classification rate:\", 1 - np.abs(T - np.round(Y)).sum() / N)"
   ]
  },
  {
   "cell_type": "code",
   "execution_count": null,
   "metadata": {
    "collapsed": true
   },
   "outputs": [],
   "source": []
  }
 ],
 "metadata": {
  "kernelspec": {
   "display_name": "Python 3",
   "language": "python",
   "name": "python3"
  },
  "language_info": {
   "codemirror_mode": {
    "name": "ipython",
    "version": 3
   },
   "file_extension": ".py",
   "mimetype": "text/x-python",
   "name": "python",
   "nbconvert_exporter": "python",
   "pygments_lexer": "ipython3",
   "version": "3.6.0"
  }
 },
 "nbformat": 4,
 "nbformat_minor": 2
}
